{
 "cells": [
  {
   "cell_type": "markdown",
   "metadata": {},
   "source": [
    "# Projeto OCR com Notas Fiscais"
   ]
  },
  {
   "cell_type": "markdown",
   "metadata": {},
   "source": [
    "## Indice"
   ]
  },
  {
   "cell_type": "markdown",
   "metadata": {},
   "source": [
    "1. Introdução\n",
    "2. Planejamento\n",
    "3. Frameworks Utilizadas\n",
    "4. Implementação\n",
    "6. Conclusões"
   ]
  },
  {
   "cell_type": "markdown",
   "metadata": {},
   "source": [
    "## Introdução"
   ]
  },
  {
   "cell_type": "markdown",
   "metadata": {},
   "source": [
    "Este projeto é um protótipo de como retirar informações de notas fiscais por OCR e Expressões regulares. O objetivo foi ler as notas como uma imagem e extrair delas alguns pontos. As informações retiradas são:\n",
    "\n",
    "1. Nome da empresa (LTDA)\n",
    "2. CNPJ da empresa\n",
    "3. Itens de compras\n",
    "4. Total da compra\n",
    "\n",
    "Claramente, há mais que isso numa nota fiscal, porém limitei nesses quatro pontos."
   ]
  },
  {
   "cell_type": "markdown",
   "metadata": {},
   "source": [
    "## Planejamento"
   ]
  },
  {
   "cell_type": "markdown",
   "metadata": {},
   "source": [
    "Para a realização desse projeto foi feito seguinte processo:\n",
    "\n",
    "1. Leitura da imagem e pre-processamento por filtros (Retirar coisas estranhas e planificar a imagem)\n",
    "2. Leitura da imagem por um OCR treinado\n",
    "3. Processar o texto \n",
    "4. Organizar o texto e coletar as informações\n",
    "\n",
    "Houve um processo que foi omitido que falarei mais na conclusão."
   ]
  },
  {
   "cell_type": "markdown",
   "metadata": {},
   "source": [
    "## Frameworks utilizadas"
   ]
  },
  {
   "cell_type": "markdown",
   "metadata": {},
   "source": [
    "Utilizei as seguintes frameworks:\n",
    "- OpenCV 4.1 (pyOpenCV)\n",
    "- pytesseract (Implementação do Google Tesseract para leitura de OCR)\n",
    "- pandas (Tabela)\n",
    "\n",
    "Além das bibliotecas do Python 3.7"
   ]
  },
  {
   "cell_type": "markdown",
   "metadata": {},
   "source": [
    "## Implementação"
   ]
  },
  {
   "cell_type": "code",
   "execution_count": 9,
   "metadata": {},
   "outputs": [],
   "source": [
    "import cv2\n",
    "import pytesseract\n",
    "import numpy as np\n",
    "import pandas as pd\n",
    "import re\n",
    "import os"
   ]
  },
  {
   "cell_type": "markdown",
   "metadata": {},
   "source": [
    "### 1.Leitura e pre-processamento de imagens"
   ]
  },
  {
   "cell_type": "code",
   "execution_count": 2,
   "metadata": {},
   "outputs": [
    {
     "name": "stdout",
     "output_type": "stream",
     "text": [
      "Qual a pasta dos cupons?\n",
      "C:\\Users\\Pablo\\Desktop\\CPQi_Hackaton\\Cupons\n"
     ]
    }
   ],
   "source": [
    "# Primeiramente, vamos carregar as fotos na memória. Para tal ele vai perguntar a direção da pasta dos cupons.\n",
    "caminho = input(\"Qual a pasta dos cupons?\\n\")\n",
    "arquivos_caminhos = os.listdir( caminho )\n",
    "\n",
    "caminhos_imagens = []\n",
    "#Aqui ele vai armazenar os paths para as imagens\n",
    "for imagem_path in arquivos_caminhos:\n",
    "    path = [caminho, '\\\\', imagem_path]\n",
    "    caminhos_imagens.append(\"\".join(path))"
   ]
  },
  {
   "cell_type": "code",
   "execution_count": 3,
   "metadata": {},
   "outputs": [],
   "source": [
    "imagens_array = []\n",
    "\n",
    "#Esse é o kernel uttilizado para a operação com os filtros, \n",
    "# nesse caso é um [5x5] para processar os ruídos na operação de Opening\n",
    "\n",
    "kernel = np.ones((5,5),np.uint8)\n",
    "\n",
    "# Percorrer as imagens para conseguir todas as informações\n",
    "\n",
    "for caminho_imagem in caminhos_imagens:\n",
    "    \n",
    "    #Carrega a imagem original\n",
    "    imagem_original = cv2.imread(caminho_imagem)\n",
    "    \n",
    "    #Coloca em preto e branco\n",
    "    imagem_pb = cv2.cvtColor(imagem_original, cv2.COLOR_BGR2GRAY)\n",
    "    \n",
    "    #Usa um threshold para planificar sombras das imagens e tentar separar melhor as letras\n",
    "    imagem_threshold = cv2.adaptiveThreshold(imagem_pb,255,\n",
    "                                         cv2.ADAPTIVE_THRESH_GAUSSIAN_C,\\\n",
    "                                         cv2.THRESH_BINARY,11,5)\n",
    "    \n",
    "    #Usa um blur para diminuir o processo destrutivo das letras quando passam pelo o threshold\n",
    "    imagem_blur = cv2.GaussianBlur(imagem_threshold,(11,11), 0)\n",
    "    \n",
    "    #Usa um filtro de opening para tentar equilibrar o blur com a definição do threshold para a leitura no OCR\n",
    "    imagem_opening = cv2.morphologyEx(imagem_blur, cv2.MORPH_OPEN, kernel)\n",
    "    \n",
    "    #Armazena todas as imagens com os filtros para processamento\n",
    "    imagens_array.append(imagem_opening)"
   ]
  },
  {
   "cell_type": "markdown",
   "metadata": {},
   "source": [
    "### 2. Aplicando o OCR"
   ]
  },
  {
   "cell_type": "code",
   "execution_count": 4,
   "metadata": {},
   "outputs": [
    {
     "name": "stdout",
     "output_type": "stream",
     "text": [
      "Processou nota 1\n",
      "\n",
      "Processou nota 2\n",
      "\n",
      "Processou nota 3\n",
      "\n",
      "Processou nota 4\n",
      "\n",
      "Processou nota 5\n",
      "\n",
      "Processou nota 6\n",
      "\n",
      "Processou nota 7\n",
      "\n"
     ]
    }
   ],
   "source": [
    "#Armazena todos os textos das notas\n",
    "texto_notas = []\n",
    "\n",
    "i = 1\n",
    "\n",
    "for imagem_nota in imagens_array:\n",
    "    #Usa o processo do Google Tesseract para ler a imagem com OCR\n",
    "    texto_notas.append(pytesseract.image_to_string(imagem_nota,lang=\"por\"))\n",
    "    \n",
    "    #Mostra o progresso do processo\n",
    "    print(\"Processou nota \" + str(i) + \"\\n\")\n",
    "    i = i + 1"
   ]
  },
  {
   "cell_type": "markdown",
   "metadata": {},
   "source": [
    "### 3.Processar o texto"
   ]
  },
  {
   "cell_type": "code",
   "execution_count": 5,
   "metadata": {},
   "outputs": [],
   "source": [
    "strings_notas = []\n",
    "\n",
    "#Percorre os textos de todas as notas e tira algumas leituras erradas\n",
    "for texto_nota in texto_notas:\n",
    "    \n",
    "    #Junta todas as linhas dividas que são maior que três caracteres\n",
    "    strings_notas.append([linha for linha in texto_nota.splitlines() if linha.strip() and len(linha)>3])"
   ]
  },
  {
   "cell_type": "code",
   "execution_count": 116,
   "metadata": {},
   "outputs": [],
   "source": [
    "def encontra_nome_empresa (nota_strings):\n",
    "    #Vai procurar no padrão de ser as duas primeiras linhas da nota fiscal o nome da empresa, caso encontra, devolve a str\n",
    "    # caso não, devolve não encontrou\n",
    "    for i in range (2):\n",
    "        if nota_strings[i].find(\"LTDA\") != -1:\n",
    "            return nota_strings[i] \n",
    "    return (\"Não encontrada\")\n",
    "\n",
    "\n",
    "def encontra_cnpj_empresa (nota_strings):\n",
    "    for i in range (2,10):\n",
    "        # O CNPJ está entre as primeiras linhas do CNPJ, porém variam muito em relação a posição, portanto, é preciso \n",
    "        # Procurar com o inicio em C ou c\n",
    "        if nota_strings[i].find(\"C\") == 0 or nota_strings[i].find(\"c\") == 0:\n",
    "            # Essa expressão regular significa pega a primeira parte sendo qualquer caractere, em segudo um dois pontos\n",
    "            # Após isso pega a expressão do CNPJ, o resto liga com o IE.\n",
    "            # match_cnpj = re.match(r'^(.+)(:)(.+)( )([A-Z]+)(.+)', nota_strings[i], re.I)\n",
    "            # O terceiro grupo é o do CNPJ (Porém, falha no da freitas, assim foi deixado de lado)\n",
    "            #cnpj = match_cnpj.group(3) \n",
    "            \n",
    "            #Foi improvisado uma seleção, porém não é o ideal. \n",
    "            return i, nota_strings[i][4:24]\n",
    "    #Devolve 0 para o indice de procura dos itens não ser prejudicada e pesquisar do inicio do arquivo, caso necessário\n",
    "    return 0, (\"Não encontrada\")\n",
    "\n",
    "\n",
    "def encontra_valor_total(nota_strings, linha_inicial):\n",
    "    for i in range (len(nota_strings)):\n",
    "        #Procura o valor total após a string do CNPJ pois esta no final da nota\n",
    "        if nota_strings[i].find(\"TOTAL\") != -1 and i > linha_inicial:\n",
    "                #Acha com expressão regular o total do valor\n",
    "                match_valor = re.match(r'(.+)( )(.+)', nota_strings[i], re.I)\n",
    "                return i, match_valor.group(3)\n",
    "    #Devolve o final do arquivo para o indice de procura dos itens não ser prejudicada e \n",
    "    # pesquisar do final do arquivo, caso necessário\n",
    "    return len(nota_strings), (\"Não encontrada\")\n",
    "\n",
    "\n",
    "def encontra_itens_nota(nota_strings, linha_inicial, linha_final):\n",
    "    # Faz uma lista com todos os itens que podem ter numa nota\n",
    "    lista_itens = []\n",
    "    for i in range(linha_inicial, linha_final):\n",
    "        match_item = re.match(r'^([0-9]{2,4})( )([0-9]+)( )(.+)', nota_strings[i], re.I)\n",
    "        match_other_item = re.match(r'^([0-9]{2,10})( )(.+)', nota_strings[i], re.I)\n",
    "        if match_item:\n",
    "            lista_itens.append(match_item.group(5))\n",
    "            continue\n",
    "\n",
    "        if match_other_item:\n",
    "            lista_itens.append(match_other_item.group(3))  \n",
    "    return lista_itens"
   ]
  },
  {
   "cell_type": "code",
   "execution_count": 117,
   "metadata": {},
   "outputs": [
    {
     "name": "stdout",
     "output_type": "stream",
     "text": [
      "[['DOCEHANIA CHOCOLATES LTDA ME', ': 86.924.156/0001-84', '1070,20', ['417.063.0041905.32.004MINI LA', '417.002.0041806.31.104ALFAJOR', '417.003.0041806.32. 1021 ABLETE']], ['Não encontrada', ': 14,158.585/00 E: 0', '5.00', ['Casa Hista BEL 2unk 2.50(0.00)- 5.00']], ['COMERCIAL DE MIUDEZAS FREITAS LTDA', ' :63473235000978 1E:', '3,99', ['PORTA GARRAFA 004']], ['Não encontrada', '14,158.595/0002-02 T', 'Não encontrada', ['pata 1585 0600 0202 823 mo 9560 9797 9000 7760']], ['“COMERCIAL DE MIUDEZAS FREITAS LTDA.', ' “n3473235000976 Ar ', 'Não encontrada', []], ['Não encontrada', ': 14.158.585/0 Bi 16', '5.00', ['Casq Hista BL 2unk 2.500 0.00) «5.00']], ['“COMERCIAL DE MIUDEZAS FREITAS LTDA', ' :63473235000978 1E:', '3,99', ['PORTA GARRAFA 004']]]\n"
     ]
    }
   ],
   "source": [
    "dados_notas = []\n",
    "\n",
    "for nota in strings_notas:\n",
    "    \n",
    "    nome_empresa = encontra_nome_empresa(nota)\n",
    "    indice_inicial_itens, cnpj_empresa = encontra_cnpj_empresa(nota)\n",
    "    indice_final_itens, valor_nota = encontra_valor_total(nota, indice_inicial_itens)\n",
    "    itens_nota = encontra_itens_nota(nota, indice_inicial_itens, indice_final_itens)\n",
    "    dado_nota = [nome_empresa, cnpj_empresa, valor_nota, itens_nota]\n",
    "    dados_notas.append(dado_nota)\n",
    "    \n",
    "print(dados_notas)"
   ]
  },
  {
   "cell_type": "markdown",
   "metadata": {},
   "source": [
    "### 4.4. Organizar o texto"
   ]
  },
  {
   "cell_type": "code",
   "execution_count": 118,
   "metadata": {},
   "outputs": [
    {
     "data": {
      "text/html": [
       "<div>\n",
       "<style scoped>\n",
       "    .dataframe tbody tr th:only-of-type {\n",
       "        vertical-align: middle;\n",
       "    }\n",
       "\n",
       "    .dataframe tbody tr th {\n",
       "        vertical-align: top;\n",
       "    }\n",
       "\n",
       "    .dataframe thead th {\n",
       "        text-align: right;\n",
       "    }\n",
       "</style>\n",
       "<table border=\"1\" class=\"dataframe\">\n",
       "  <thead>\n",
       "    <tr style=\"text-align: right;\">\n",
       "      <th></th>\n",
       "      <th>0</th>\n",
       "      <th>1</th>\n",
       "      <th>2</th>\n",
       "      <th>3</th>\n",
       "    </tr>\n",
       "  </thead>\n",
       "  <tbody>\n",
       "    <tr>\n",
       "      <th>0</th>\n",
       "      <td>DOCEHANIA CHOCOLATES LTDA ME</td>\n",
       "      <td>: 86.924.156/0001-84</td>\n",
       "      <td>1070,20</td>\n",
       "      <td>[417.063.0041905.32.004MINI LA, 417.002.004180...</td>\n",
       "    </tr>\n",
       "    <tr>\n",
       "      <th>1</th>\n",
       "      <td>Não encontrada</td>\n",
       "      <td>: 14,158.585/00 E: 0</td>\n",
       "      <td>5.00</td>\n",
       "      <td>[Casa Hista BEL 2unk 2.50(0.00)- 5.00]</td>\n",
       "    </tr>\n",
       "    <tr>\n",
       "      <th>2</th>\n",
       "      <td>COMERCIAL DE MIUDEZAS FREITAS LTDA</td>\n",
       "      <td>:63473235000978 1E:</td>\n",
       "      <td>3,99</td>\n",
       "      <td>[PORTA GARRAFA 004]</td>\n",
       "    </tr>\n",
       "    <tr>\n",
       "      <th>3</th>\n",
       "      <td>Não encontrada</td>\n",
       "      <td>14,158.595/0002-02 T</td>\n",
       "      <td>Não encontrada</td>\n",
       "      <td>[pata 1585 0600 0202 823 mo 9560 9797 9000 7760]</td>\n",
       "    </tr>\n",
       "    <tr>\n",
       "      <th>4</th>\n",
       "      <td>“COMERCIAL DE MIUDEZAS FREITAS LTDA.</td>\n",
       "      <td>“n3473235000976 Ar</td>\n",
       "      <td>Não encontrada</td>\n",
       "      <td>[]</td>\n",
       "    </tr>\n",
       "    <tr>\n",
       "      <th>5</th>\n",
       "      <td>Não encontrada</td>\n",
       "      <td>: 14.158.585/0 Bi 16</td>\n",
       "      <td>5.00</td>\n",
       "      <td>[Casq Hista BL 2unk 2.500 0.00) «5.00]</td>\n",
       "    </tr>\n",
       "    <tr>\n",
       "      <th>6</th>\n",
       "      <td>“COMERCIAL DE MIUDEZAS FREITAS LTDA</td>\n",
       "      <td>:63473235000978 1E:</td>\n",
       "      <td>3,99</td>\n",
       "      <td>[PORTA GARRAFA 004]</td>\n",
       "    </tr>\n",
       "  </tbody>\n",
       "</table>\n",
       "</div>"
      ],
      "text/plain": [
       "                                      0                     1               2  \\\n",
       "0          DOCEHANIA CHOCOLATES LTDA ME  : 86.924.156/0001-84         1070,20   \n",
       "1                        Não encontrada  : 14,158.585/00 E: 0            5.00   \n",
       "2    COMERCIAL DE MIUDEZAS FREITAS LTDA   :63473235000978 1E:            3,99   \n",
       "3                        Não encontrada  14,158.595/0002-02 T  Não encontrada   \n",
       "4  “COMERCIAL DE MIUDEZAS FREITAS LTDA.   “n3473235000976 Ar   Não encontrada   \n",
       "5                        Não encontrada  : 14.158.585/0 Bi 16            5.00   \n",
       "6   “COMERCIAL DE MIUDEZAS FREITAS LTDA   :63473235000978 1E:            3,99   \n",
       "\n",
       "                                                   3  \n",
       "0  [417.063.0041905.32.004MINI LA, 417.002.004180...  \n",
       "1             [Casa Hista BEL 2unk 2.50(0.00)- 5.00]  \n",
       "2                                [PORTA GARRAFA 004]  \n",
       "3   [pata 1585 0600 0202 823 mo 9560 9797 9000 7760]  \n",
       "4                                                 []  \n",
       "5             [Casq Hista BL 2unk 2.500 0.00) «5.00]  \n",
       "6                                [PORTA GARRAFA 004]  "
      ]
     },
     "execution_count": 118,
     "metadata": {},
     "output_type": "execute_result"
    }
   ],
   "source": [
    "pd.DataFrame(dados_notas)"
   ]
  },
  {
   "cell_type": "markdown",
   "metadata": {},
   "source": [
    "## Conclusão"
   ]
  },
  {
   "cell_type": "markdown",
   "metadata": {},
   "source": [
    "Podemos notar certos problemas com a leitura dos cupons fiscais e também, com a estutura do Regex na parte de seleção.\n",
    "\n",
    "Um problema, é que não houve um corte para somente ler o texto, isso se deve que a implementação do EAST estava problematica e não conseguia pegar o texto nas notas e a técnica de bleeding, que utiliza uma mascara para pegar o texto gerada por pegar as bordas e transformar em quadradados estava com uma demora bem considerável, porém é sim um ponto de melhora futuro para se fazer antes do OCR. Como exemplo, uma técnica de bleeding que foi implementada mas não colocada aqui"
   ]
  },
  {
   "cell_type": "markdown",
   "metadata": {},
   "source": [
    "![Exemplo funcional da técnica de bleeding](OCR-filtro-futuro.png)"
   ]
  },
  {
   "attachments": {},
   "cell_type": "markdown",
   "metadata": {},
   "source": [
    "Outro problema, foi o Regex do CNPJ que funcionava para as notas, menos a da freitas varejo. Então, uam solução mais \"Hard-coded foi feita, porém no caso do regex, fica assim."
   ]
  },
  {
   "cell_type": "code",
   "execution_count": 121,
   "metadata": {},
   "outputs": [],
   "source": [
    "def encontra_cnpj_empresa_regex (nota_strings):\n",
    "    for i in range (2,10):\n",
    "        # O CNPJ está entre as primeiras linhas do CNPJ, porém variam muito em relação a posição, portanto, é preciso \n",
    "        # Procurar com o inicio em C ou c\n",
    "        if nota_strings[i].find(\"C\") == 0 or nota_strings[i].find(\"c\") == 0:\n",
    "            # Essa expressão regular significa pega a primeira parte sendo qualquer caractere, em segudo um dois pontos\n",
    "            # Após isso pega a expressão do CNPJ, o resto liga com o IE.\n",
    "            match_cnpj = re.match(r'^(.+)(:)(.+)( )([A-Z]+)(.+)', nota_strings[i], re.I)\n",
    "            # O terceiro grupo é o do CNPJ (Porém, falha no da freitas, assim foi deixado de lado)\n",
    "            cnpj = match_cnpj.group(3) \n",
    "            \n",
    "            #Foi improvisado uma seleção, porém não é o ideal. \n",
    "            return i, cnpj\n",
    "    #Devolve 0 para o indice de procura dos itens não ser prejudicada e pesquisar do inicio do arquivo, caso necessário\n",
    "    return 0, (\"Não encontrada\")"
   ]
  },
  {
   "cell_type": "code",
   "execution_count": 122,
   "metadata": {},
   "outputs": [
    {
     "name": "stdout",
     "output_type": "stream",
     "text": [
      " 86.924.156/0001-84\n",
      " 14,158.585/00\n",
      "000063016974\n",
      " 14,158.595/0002-02\n",
      " “n3473235000976 Ar MONgo NBA\n",
      " 14.158.585/0\n",
      "000063016974\n"
     ]
    }
   ],
   "source": [
    "for nota in strings_notas:\n",
    "    indice_inicial_itens, cnpj_empresa = encontra_cnpj_empresa_regex(nota)\n",
    "    print(cnpj_empresa)"
   ]
  },
  {
   "cell_type": "markdown",
   "metadata": {},
   "source": [
    "Por algum motivo,são colocados zeros que não estão na string original, que precisa de uma investigação maior."
   ]
  },
  {
   "cell_type": "markdown",
   "metadata": {},
   "source": [
    "Para melhorar o sistema, precisaria de:\n",
    "- Melhorar o Regex da seleção de dados\n",
    "- Fazer o passo intermediário de isolar o texto para leitura\n",
    "- Testar melhor a acurrácia do sistema\n",
    "- Pegar mais features que contém na nota, como se foi paga no Débito ou no Crédito"
   ]
  },
  {
   "cell_type": "markdown",
   "metadata": {},
   "source": [
    "A leitura quando não falhava por ruído, era satisfatória, as leituras de preço foram corretas e as de CNPJ satisfatórias. Este é um simples protótipo que pode ser melhorado, foi feito para um projeto de teste de OCR e processamento de texto."
   ]
  },
  {
   "cell_type": "code",
   "execution_count": null,
   "metadata": {},
   "outputs": [],
   "source": []
  }
 ],
 "metadata": {
  "kernelspec": {
   "display_name": "Python 3",
   "language": "python",
   "name": "python3"
  },
  "language_info": {
   "codemirror_mode": {
    "name": "ipython",
    "version": 3
   },
   "file_extension": ".py",
   "mimetype": "text/x-python",
   "name": "python",
   "nbconvert_exporter": "python",
   "pygments_lexer": "ipython3",
   "version": "3.7.3"
  }
 },
 "nbformat": 4,
 "nbformat_minor": 2
}
